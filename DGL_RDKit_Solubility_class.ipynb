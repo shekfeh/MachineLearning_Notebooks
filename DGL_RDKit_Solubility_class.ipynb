{
 "cells": [
  {
   "cell_type": "code",
   "execution_count": 4,
   "id": "cb3c6759-11af-46a8-ac8c-809eea4952b1",
   "metadata": {},
   "outputs": [
    {
     "name": "stdout",
     "output_type": "stream",
     "text": [
      "use GPU\n"
     ]
    }
   ],
   "source": [
    "import os\n",
    "from rdkit import Chem\n",
    "from rdkit import RDPaths\n",
    "import numpy as np\n",
    "\n",
    "\n",
    "from dgllife.model.model_zoo import gcn_predictor\n",
    "from dgllife.utils import mol_to_graph\n",
    "from dgllife.utils import mol_to_complete_graph\n",
    "from dgllife.utils import CanonicalAtomFeaturizer\n",
    "from dgllife.utils import CanonicalBondFeaturizer\n",
    "from torch import nn\n",
    "\n",
    "import torch\n",
    "import dgl\n",
    "if torch.cuda.is_available():\n",
    "    print('use GPU')\n",
    "    device='cuda'\n",
    "else:\n",
    "    print('use CPU')\n",
    "    device='cpu'\n",
    "\n",
    "\n",
    "import torch.nn.functional as F\n",
    "from torch.utils.data import DataLoader\n",
    "from torch.utils.data import Dataset\n",
    "from torch.nn import CrossEntropyLoss"
   ]
  },
  {
   "cell_type": "code",
   "execution_count": 5,
   "id": "89fa9852-a74a-4858-8d35-afd4360fa5b1",
   "metadata": {},
   "outputs": [],
   "source": [
    "# Define paths to datasets\n",
    "trainsdf = './RDKitBook/data/solubility.train.sdf'\n",
    "testsdf =  './RDKitBook/data/solubility.test.sdf'\n",
    "\n",
    "# Load molecules\n",
    "trainmols = [m for m in Chem.SDMolSupplier(trainsdf)]\n",
    "testmols = [m for m in Chem.SDMolSupplier(testsdf)]\n",
    "\n",
    "# Define property dictionary\n",
    "prop_dict = {\n",
    "    \"(A) low\": 0,\n",
    "    \"(B) medium\": 1,\n",
    "    \"(C) high\": 2\n",
    "}\n",
    "\n",
    "# Featurizers and dataset preparation\n",
    "atom_featurizer = CanonicalAtomFeaturizer()\n",
    "n_feats = atom_featurizer.feat_size('h')\n",
    "\n",
    "# Prepare training data\n",
    "train_g = [mol_to_complete_graph(m, node_featurizer=atom_featurizer) for m in trainmols]\n",
    "train_y = np.array([prop_dict[m.GetProp('SOL_classification')] for m in trainmols], dtype=np.int64)\n",
    "\n",
    "# Prepare test data\n",
    "test_g = [mol_to_complete_graph(m, node_featurizer=atom_featurizer) for m in testmols]\n",
    "test_y = np.array([prop_dict[m.GetProp('SOL_classification')] for m in testmols], dtype=np.int64)"
   ]
  },
  {
   "cell_type": "code",
   "execution_count": 6,
   "id": "d22e9746-ad2f-480d-ab7d-78993e34bf9a",
   "metadata": {},
   "outputs": [
    {
     "name": "stdout",
     "output_type": "stream",
     "text": [
      "classifier_hidden_feats is deprecated and will be removed in the future, use predictor_hidden_feats instead\n"
     ]
    }
   ],
   "source": [
    "# Define the GCN model\n",
    "gcn_net = gcn_predictor.GCNPredictor(\n",
    "    in_feats=n_feats, \n",
    "    hidden_feats=[60, 20], \n",
    "    n_tasks=3, \n",
    "    classifier_hidden_feats=10, \n",
    "    predictor_dropout=0.5\n",
    ")\n",
    "gcn_net = gcn_net.to(device)\n",
    "\n",
    "# Define data loader and optimizer\n",
    "def collate(sample):\n",
    "    graphs, labels = map(list, zip(*sample))\n",
    "    batched_graph = dgl.batch(graphs)\n",
    "    batched_graph.set_n_initializer(dgl.init.zero_initializer)\n",
    "    batched_graph.set_e_initializer(dgl.init.zero_initializer)\n",
    "    return batched_graph, torch.tensor(labels)\n",
    "\n",
    "train_data = list(zip(train_g, train_y))\n",
    "train_loader = DataLoader(train_data, batch_size=128, shuffle=True, collate_fn=collate, drop_last=True)"
   ]
  },
  {
   "cell_type": "code",
   "execution_count": 7,
   "id": "64eabe25-d94e-4189-b095-2ab728039ab2",
   "metadata": {},
   "outputs": [
    {
     "name": "stdout",
     "output_type": "stream",
     "text": [
      "epoch: 20, LOSS: 0.402, ACC: 0.832\n",
      "epoch: 40, LOSS: 0.321, ACC: 0.864\n",
      "epoch: 60, LOSS: 0.297, ACC: 0.872\n",
      "epoch: 80, LOSS: 0.240, ACC: 0.903\n",
      "epoch: 100, LOSS: 0.224, ACC: 0.920\n",
      "epoch: 120, LOSS: 0.209, ACC: 0.918\n",
      "epoch: 140, LOSS: 0.189, ACC: 0.918\n",
      "epoch: 160, LOSS: 0.156, ACC: 0.939\n",
      "epoch: 180, LOSS: 0.196, ACC: 0.926\n",
      "epoch: 200, LOSS: 0.163, ACC: 0.932\n",
      "epoch: 220, LOSS: 0.208, ACC: 0.910\n",
      "epoch: 240, LOSS: 0.128, ACC: 0.953\n",
      "epoch: 260, LOSS: 0.162, ACC: 0.935\n",
      "epoch: 280, LOSS: 0.141, ACC: 0.947\n",
      "epoch: 300, LOSS: 0.127, ACC: 0.948\n",
      "epoch: 320, LOSS: 0.157, ACC: 0.938\n",
      "epoch: 340, LOSS: 0.113, ACC: 0.954\n",
      "epoch: 360, LOSS: 0.128, ACC: 0.955\n",
      "epoch: 380, LOSS: 0.185, ACC: 0.937\n",
      "epoch: 400, LOSS: 0.124, ACC: 0.945\n",
      "epoch: 420, LOSS: 0.114, ACC: 0.959\n",
      "epoch: 440, LOSS: 0.103, ACC: 0.956\n",
      "epoch: 460, LOSS: 0.107, ACC: 0.958\n",
      "epoch: 480, LOSS: 0.102, ACC: 0.955\n",
      "epoch: 500, LOSS: 0.107, ACC: 0.962\n"
     ]
    }
   ],
   "source": [
    "loss_fn = CrossEntropyLoss()\n",
    "optimizer = torch.optim.Adam(gcn_net.parameters(), lr=0.01)\n",
    "\n",
    "# Training loop\n",
    "for epoch in range(1, 501):\n",
    "    epoch_loss = 0\n",
    "    epoch_acc = 0\n",
    "    for i, (bg, labels) in enumerate(train_loader):\n",
    "        bg = bg.to(device)\n",
    "        labels = labels.to(device)\n",
    "        atom_feats = bg.ndata.pop('h').to(device)\n",
    "        pred = gcn_net(bg, atom_feats)\n",
    "        loss = loss_fn(pred, labels)\n",
    "        optimizer.zero_grad()\n",
    "        loss.backward()\n",
    "        optimizer.step()\n",
    "        epoch_loss += loss.detach().item()\n",
    "        pred_cls = pred.argmax(-1).detach().cpu().numpy()\n",
    "        true_label = labels.cpu().numpy()\n",
    "        epoch_acc += (true_label == pred_cls).sum() / true_label.shape[0]\n",
    "    epoch_acc /= (i + 1)\n",
    "    epoch_loss /= (i + 1)\n",
    "    if epoch % 20 == 0:\n",
    "        print(f\"epoch: {epoch}, LOSS: {epoch_loss:.3f}, ACC: {epoch_acc:.3f}\")"
   ]
  },
  {
   "cell_type": "code",
   "execution_count": 11,
   "id": "7b3d7497-4016-4afa-a38c-d3567be13b2f",
   "metadata": {},
   "outputs": [
    {
     "data": {
      "image/png": "[encoded data removed]",
      "text/plain": [
       "<Figure size 1000x600 with 2 Axes>"
      ]
     },
     "metadata": {},
     "output_type": "display_data"
    },
    {
     "name": "stdout",
     "output_type": "stream",
     "text": [
      "Precision: [0.84313725 0.80555556 0.72340426]\n",
      "Recall: [0.84313725 0.75652174 0.85      ]\n",
      "F1 Score: [0.84313725 0.78026906 0.7816092 ]\n"
     ]
    }
   ],
   "source": [
    "from sklearn.metrics import confusion_matrix, roc_curve, roc_auc_score, precision_score, recall_score, f1_score  # Import confusion_matrix\n",
    "# Evaluation on the test set\n",
    "gcn_net.eval()\n",
    "with torch.no_grad():\n",
    "    test_data = list(zip(test_g, test_y))\n",
    "    test_loader = DataLoader(test_data, batch_size=128, shuffle=False, collate_fn=collate, drop_last=False)\n",
    "    \n",
    "    all_preds = []\n",
    "    all_labels = []\n",
    "    \n",
    "    for bg, labels in test_loader:\n",
    "        bg = bg.to(device)\n",
    "        labels = labels.to(device)\n",
    "        atom_feats = bg.ndata.pop('h').to(device)\n",
    "        pred = gcn_net(bg, atom_feats)\n",
    "        pred_cls = pred.argmax(-1).cpu().numpy()\n",
    "        true_label = labels.cpu().numpy()\n",
    "        all_preds.extend(pred_cls)\n",
    "        all_labels.extend(true_label)\n",
    "    \n",
    "    all_preds = np.array(all_preds)\n",
    "    all_labels = np.array(all_labels)\n",
    "    \n",
    "    # Visualization\n",
    "    plt.figure(figsize=(10, 6))\n",
    "    sns.heatmap(\n",
    "        confusion_matrix(all_labels, all_preds), \n",
    "        annot=True, fmt='d',\n",
    "        xticklabels=list(prop_dict.keys()), yticklabels=list(prop_dict.keys())\n",
    "    )\n",
    "    plt.xlabel('Predicted')\n",
    "    plt.ylabel('Actual')\n",
    "    plt.title('Confusion Matrix')\n",
    "    plt.show()\n",
    "\n",
    "    # Precision, Recall, F1 Score\n",
    "    precision = precision_score(all_labels, all_preds, average=None)\n",
    "    recall = recall_score(all_labels, all_preds, average=None)\n",
    "    f1 = f1_score(all_labels, all_preds, average=None)\n",
    "\n",
    "    print('Precision:', precision)\n",
    "    print('Recall:', recall)\n",
    "    print('F1 Score:', f1)"
   ]
  },
  {
   "cell_type": "code",
   "execution_count": null,
   "id": "a9672dcd-edec-4edb-9cdf-4b91c58ed0ba",
   "metadata": {},
   "outputs": [],
   "source": []
  }
 ],
 "metadata": {
  "kernelspec": {
   "display_name": "Python 3 (ipykernel)",
   "language": "python",
   "name": "python3"
  },
  "language_info": {
   "codemirror_mode": {
    "name": "ipython",
    "version": 3
   },
   "file_extension": ".py",
   "mimetype": "text/x-python",
   "name": "python",
   "nbconvert_exporter": "python",
   "pygments_lexer": "ipython3",
   "version": "3.9.19"
  }
 },
 "nbformat": 4,
 "nbformat_minor": 5
}
